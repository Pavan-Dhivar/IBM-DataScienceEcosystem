{
 "cells": [
  {
   "cell_type": "markdown",
   "id": "513cb1ef",
   "metadata": {},
   "source": [
    "Exercise 1: Create a Jupyter Notebook\n",
    "\n",
    "Create a new Jupyter notebook called DataScienceEcosystem.ipynb"
   ]
  },
  {
   "cell_type": "markdown",
   "id": "d3419e73",
   "metadata": {},
   "source": [
    "Exercise 2: Create markdown cell with title of the notebook\n",
    "\n",
    "# Data Science Tools and Ecosystem"
   ]
  },
  {
   "cell_type": "markdown",
   "id": "10c4241e",
   "metadata": {},
   "source": [
    "Exercise 3 - Create a markdown cell for an introduction\n",
    "## In this notebook, Data Science Tools and Ecosystem are summarized."
   ]
  },
  {
   "cell_type": "markdown",
   "id": "b01c8e9c",
   "metadata": {},
   "source": [
    "Exercise 4 - Create a markdown cell to list data science languages\n",
    "\n",
    "### Some of the popular languages that Data Scientists use are:\n",
    "\n",
    "1.Python.\n",
    "\n",
    "2.R.\n",
    "\n",
    "3.SQL.\n",
    "\n",
    "4.Java.\n",
    "\n",
    "5.Julia.\n",
    "\n",
    "6.Scala.\n",
    "\n",
    "7.C/C++.\n",
    "\n",
    "8.JavaScript."
   ]
  },
  {
   "cell_type": "markdown",
   "id": "db2b9194",
   "metadata": {},
   "source": [
    "Exercise 5 - Create a markdown cell to list data science libraries.\n",
    "\n",
    "## Some of the commonly used libraries used by Data Scientists include:\n",
    "\n",
    "1.TensorFlow.\n",
    "\n",
    "2.NumPy.\n",
    "\n",
    "3.SciPy.\n",
    "\n",
    "4.Pandas.\n",
    "\n",
    "5.Matplotlib.\n",
    "\n",
    "6.Keras.\n",
    "\n",
    "7.SciKit-Learn.\n",
    "\n",
    "8.PyTorch.\n",
    "\n",
    "9.Scrapy.\n",
    "\n",
    "10.BeautifulSoup."
   ]
  },
  {
   "cell_type": "markdown",
   "id": "1c79f7d5",
   "metadata": {},
   "source": [
    "Exercise 6 - Create a markdown cell with a table of Data Science tools\n",
    "\n",
    "###### Data Science Tools:  \n",
    "\n",
    "| Data Science Tools:  |            |         |\n",
    "| :------------------- | :--------: | ------: |\n",
    "| SAS. It is one of those data science tools which are specifically designed for statistical operation|\n",
    "| Apache Spark\t|\n",
    "| BigML |"
   ]
  },
  {
   "cell_type": "markdown",
   "id": "9751bea6",
   "metadata": {},
   "source": [
    "Exercise 7 - Create a markdown cell introducing arithmetic expression examples\n",
    "\n",
    "### Below are a few examples of evaluating arithmetic expressions in Python."
   ]
  },
  {
   "cell_type": "markdown",
   "id": "379ee83c",
   "metadata": {},
   "source": [
    "Exercise 8 - Create a code cell to multiply and add numbers"
   ]
  },
  {
   "cell_type": "code",
   "execution_count": 1,
   "id": "030215ab",
   "metadata": {},
   "outputs": [
    {
     "data": {
      "text/plain": [
       "17"
      ]
     },
     "execution_count": 1,
     "metadata": {},
     "output_type": "execute_result"
    }
   ],
   "source": [
    "#This a simple arithmetic expression to mutiply then add integers\n",
    "(3*4)+5\n",
    "#Result = 17"
   ]
  },
  {
   "cell_type": "markdown",
   "id": "927083bc",
   "metadata": {},
   "source": [
    "Exercise 9 - Create a code cell to convert minutes to hours"
   ]
  },
  {
   "cell_type": "code",
   "execution_count": 2,
   "id": "a94b911c",
   "metadata": {},
   "outputs": [
    {
     "name": "stdout",
     "output_type": "stream",
     "text": [
      "3.3333333333333335\n"
     ]
    }
   ],
   "source": [
    "#This will convert 200 minutes to hours by diving by 60\n",
    "minutes = 200\n",
    "hours = 200/60\n",
    "print(hours)\n",
    "#Result = 3.3333333333333335"
   ]
  },
  {
   "cell_type": "markdown",
   "id": "dcbc60b2",
   "metadata": {},
   "source": [
    "Exercise 10 - Insert a markdown cell to list Objectives"
   ]
  },
  {
   "cell_type": "markdown",
   "id": "cf987e03",
   "metadata": {},
   "source": [
    "### Some of the popular languages that Data Scientists use are:\n",
    "+ Python.\n",
    "\n",
    "+ R.\n",
    "\n",
    "+ SQL.\n",
    "\n",
    "+ Java.\n",
    "\n",
    "+ Julia."
   ]
  },
  {
   "cell_type": "markdown",
   "id": "5bebf82e",
   "metadata": {},
   "source": [
    "Exercise 11 - Create a markdown cell to indicate the Author's name"
   ]
  },
  {
   "cell_type": "markdown",
   "id": "4582944c",
   "metadata": {},
   "source": [
    "## Author\n",
    "Lakshmi Holla\n",
    "\n",
    "Niveditha Pandith"
   ]
  },
  {
   "cell_type": "code",
   "execution_count": null,
   "id": "4e89ceeb",
   "metadata": {},
   "outputs": [],
   "source": []
  }
 ],
 "metadata": {
  "kernelspec": {
   "display_name": "Python 3 (ipykernel)",
   "language": "python",
   "name": "python3"
  },
  "language_info": {
   "codemirror_mode": {
    "name": "ipython",
    "version": 3
   },
   "file_extension": ".py",
   "mimetype": "text/x-python",
   "name": "python",
   "nbconvert_exporter": "python",
   "pygments_lexer": "ipython3",
   "version": "3.11.3"
  }
 },
 "nbformat": 4,
 "nbformat_minor": 5
}
